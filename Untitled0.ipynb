{
  "nbformat": 4,
  "nbformat_minor": 0,
  "metadata": {
    "colab": {
      "provenance": [],
      "authorship_tag": "ABX9TyMN3VdW5dpauKvU13igwuWa",
      "include_colab_link": true
    },
    "kernelspec": {
      "name": "python3",
      "display_name": "Python 3"
    },
    "language_info": {
      "name": "python"
    }
  },
  "cells": [
    {
      "cell_type": "markdown",
      "metadata": {
        "id": "view-in-github",
        "colab_type": "text"
      },
      "source": [
        "<a href=\"https://colab.research.google.com/github/Akash-reddy-s/Python-Programming/blob/main/Untitled0.ipynb\" target=\"_parent\"><img src=\"https://colab.research.google.com/assets/colab-badge.svg\" alt=\"Open In Colab\"/></a>"
      ]
    },
    {
      "cell_type": "code",
      "execution_count": null,
      "metadata": {
        "colab": {
          "base_uri": "https://localhost:8080/"
        },
        "id": "ufuaiQUaS0DP",
        "outputId": "5ceb0f97-16ec-4dfb-dbf9-d17e907c321e"
      },
      "outputs": [
        {
          "output_type": "stream",
          "name": "stdout",
          "text": [
            "RandomForest Accuracies: [90.0, 90.0, 90.0, 90.0, 90.0, 90.0, 85.0, 85.0, 85.0, 85.0]\n",
            "SVC Accuracies: [80.0, 80.0, 80.0, 80.0, 80.0, 80.0, 80.0, 80.0, 80.0, 80.0]\n"
          ]
        }
      ],
      "source": [
        "import numpy as np\n",
        "import pandas as pd\n",
        "from sklearn.model_selection import train_test_split\n",
        "from sklearn.ensemble import RandomForestClassifier\n",
        "from sklearn.svm import SVC\n",
        "from sklearn.metrics import accuracy_score\n",
        "from sklearn.preprocessing import LabelEncoder\n",
        "\n",
        "np.random.seed(0)\n",
        "\n",
        "data = pd.read_csv(\"/content/100coreproject.csv\")\n",
        "\n",
        "le = LabelEncoder()\n",
        "for column in data.columns:\n",
        "    if data[column].dtype == type(object):\n",
        "        data[column] = le.fit_transform(data[column])\n",
        "\n",
        "X = data.iloc[:, :-1]\n",
        "y = data.iloc[:, -1]\n",
        "\n",
        "y = y.astype('category')\n",
        "\n",
        "X_train, X_test, y_train, y_test = train_test_split(X, y, test_size=0.2, random_state=42)\n",
        "\n",
        "models = [\n",
        "    ('RandomForest', RandomForestClassifier(n_estimators=100)),\n",
        "    ('SVC', SVC(kernel='linear')),\n",
        "]\n",
        "\n",
        "num_iterations = 10\n",
        "\n",
        "accuracy_values = {name: [] for name, _ in models}\n",
        "\n",
        "for i in range(num_iterations):\n",
        "    for name, model in models:\n",
        "        model.fit(X_train, y_train)\n",
        "        y_pred = model.predict(X_test)\n",
        "        accuracy = accuracy_score(y_test, y_pred)\n",
        "        accuracy_values[name].append(accuracy)\n",
        "\n",
        "for name, accuracies in accuracy_values.items():\n",
        "    accuracies_percentage = [accuracy * 100 for accuracy in accuracies]\n",
        "    print(f'{name} Accuracies: {accuracies_percentage}')\n"
      ]
    },
    {
      "cell_type": "code",
      "source": [
        "import pandas as pd\n",
        "from sklearn.model_selection import train_test_split\n",
        "from sklearn.ensemble import RandomForestClassifier\n",
        "from sklearn.metrics import accuracy_score\n",
        "from sklearn.preprocessing import LabelEncoder\n",
        "from tensorflow.keras.models import Sequential\n",
        "from tensorflow.keras.layers import LSTM, Dense\n",
        "import numpy as np\n",
        "\n",
        "# Load the data with specified date format\n",
        "df = pd.read_csv(\"/content/100coreproject.csv\", parse_dates=['Date'], dayfirst=True)\n",
        "\n",
        "# Extract features from 'Date'\n",
        "df['Year'] = df['Date'].dt.year\n",
        "df['Month'] = df['Date'].dt.month\n",
        "df['Day'] = df['Date'].dt.day\n",
        "df.drop(columns=['Date'], inplace=True)\n",
        "\n",
        "# Encode categorical columns\n",
        "label_encoders = {}\n",
        "for column in ['Type', 'Location', 'Victim_Gender', 'Reported', 'Outcome']:\n",
        "    le = LabelEncoder()\n",
        "    df[column] = le.fit_transform(df[column])\n",
        "    label_encoders[column] = le\n",
        "\n",
        "# Split the data into features and target\n",
        "X = df.drop(columns=['Outcome'])\n",
        "y = df['Outcome']\n",
        "\n",
        "# Number of iterations\n",
        "num_iterations = 10\n",
        "\n",
        "for iteration in range(num_iterations):\n",
        "    # Split the data into training and testing sets\n",
        "    X_train, X_test, y_train, y_test = train_test_split(X, y, test_size=0.2, random_state=iteration * 42)\n",
        "\n",
        "    # Random Forest Classifier\n",
        "    rf_classifier = RandomForestClassifier(n_estimators=100, random_state=42)\n",
        "    rf_classifier.fit(X_train, y_train)\n",
        "    rf_predictions = rf_classifier.predict(X_test)\n",
        "    rf_accuracy = accuracy_score(y_test, rf_predictions)\n",
        "\n",
        "    print(f\"Iteration {iteration + 1} - Random Forest Accuracy: {rf_accuracy * 100}\")\n",
        "\n",
        "    # LSTM Neural Network\n",
        "    model = Sequential()\n",
        "    model.add(LSTM(50, input_shape=(X_train.shape[1], 1)))\n",
        "    model.add(Dense(1, activation='sigmoid'))\n",
        "    model.compile(loss='binary_crossentropy', optimizer='adam', metrics=['accuracy'])\n",
        "\n",
        "    X_train_lstm = np.reshape(X_train.values, (X_train.shape[0], X_train.shape[1], 1))\n",
        "    X_test_lstm = np.reshape(X_test.values, (X_test.shape[0], X_test.shape[1], 1))\n",
        "\n",
        "    model.fit(X_train_lstm, y_train, epochs=10, batch_size=32, verbose=0)\n",
        "\n",
        "    lstm_probabilities = model.predict(X_test_lstm)\n",
        "    lstm_predictions = (lstm_probabilities > 0.5).astype(int)\n",
        "    lstm_accuracy = accuracy_score(y_test, lstm_predictions)\n",
        "\n",
        "    print(f\"Iteration {iteration + 1} - LSTM Accuracy: {lstm_accuracy * 100}\")\n",
        "    print(\"-\" * 30)\n"
      ],
      "metadata": {
        "colab": {
          "base_uri": "https://localhost:8080/"
        },
        "id": "Z6bviU3eioFo",
        "outputId": "d1157bda-cab5-426c-d05f-aaed044d1921"
      },
      "execution_count": null,
      "outputs": [
        {
          "output_type": "stream",
          "name": "stdout",
          "text": [
            "Iteration 1 - Random Forest Accuracy: 90.0\n",
            "1/1 [==============================] - 0s 439ms/step\n",
            "Iteration 1 - LSTM Accuracy: 45.0\n",
            "------------------------------\n",
            "Iteration 2 - Random Forest Accuracy: 85.0\n",
            "1/1 [==============================] - 0s 419ms/step\n",
            "Iteration 2 - LSTM Accuracy: 60.0\n",
            "------------------------------\n",
            "Iteration 3 - Random Forest Accuracy: 80.0\n",
            "1/1 [==============================] - 0s 414ms/step\n",
            "Iteration 3 - LSTM Accuracy: 45.0\n",
            "------------------------------\n",
            "Iteration 4 - Random Forest Accuracy: 80.0\n",
            "1/1 [==============================] - 0s 422ms/step\n",
            "Iteration 4 - LSTM Accuracy: 35.0\n",
            "------------------------------\n",
            "Iteration 5 - Random Forest Accuracy: 75.0\n",
            "1/1 [==============================] - 0s 426ms/step\n",
            "Iteration 5 - LSTM Accuracy: 45.0\n",
            "------------------------------\n",
            "Iteration 6 - Random Forest Accuracy: 85.0\n",
            "1/1 [==============================] - 0s 410ms/step\n",
            "Iteration 6 - LSTM Accuracy: 65.0\n",
            "------------------------------\n",
            "Iteration 7 - Random Forest Accuracy: 50.0\n",
            "1/1 [==============================] - 1s 623ms/step\n",
            "Iteration 7 - LSTM Accuracy: 50.0\n",
            "------------------------------\n",
            "Iteration 8 - Random Forest Accuracy: 85.0\n",
            "1/1 [==============================] - 0s 427ms/step\n",
            "Iteration 8 - LSTM Accuracy: 40.0\n",
            "------------------------------\n",
            "Iteration 9 - Random Forest Accuracy: 85.0\n",
            "1/1 [==============================] - 0s 402ms/step\n",
            "Iteration 9 - LSTM Accuracy: 55.00000000000001\n",
            "------------------------------\n",
            "Iteration 10 - Random Forest Accuracy: 75.0\n",
            "1/1 [==============================] - 1s 585ms/step\n",
            "Iteration 10 - LSTM Accuracy: 60.0\n",
            "------------------------------\n"
          ]
        }
      ]
    },
    {
      "cell_type": "code",
      "source": [
        "import pandas as pd\n",
        "from sklearn.model_selection import train_test_split\n",
        "from sklearn.ensemble import RandomForestClassifier\n",
        "from sklearn.ensemble import IsolationForest\n",
        "from sklearn.metrics import accuracy_score\n",
        "from sklearn.preprocessing import LabelEncoder\n",
        "import numpy as np\n",
        "\n",
        "df = pd.read_csv(\"/content/100coreproject.csv\")\n",
        "\n",
        "# Convert 'Date' column to datetime\n",
        "df['Date'] = pd.to_datetime(df['Date'])\n",
        "\n",
        "# Extract features from 'Date'\n",
        "df['Year'] = df['Date'].dt.year\n",
        "df['Month'] = df['Date'].dt.month\n",
        "df['Day'] = df['Date'].dt.day\n",
        "df.drop(columns=['Date'], inplace=True)\n",
        "\n",
        "# Encode categorical columns\n",
        "label_encoders = {}\n",
        "for column in ['Type', 'Location', 'Victim_Gender', 'Reported', 'Outcome']:\n",
        "    le = LabelEncoder()\n",
        "    df[column] = le.fit_transform(df[column])\n",
        "    label_encoders[column] = le\n",
        "\n",
        "# Split the data into features and target\n",
        "X = df.drop(columns=['Outcome'])\n",
        "y = df['Outcome']\n",
        "\n",
        "# Number of iterations\n",
        "num_iterations = 10\n",
        "\n",
        "for iteration in range(num_iterations):\n",
        "    # Split the data into training and testing sets\n",
        "    X_train, X_test, y_train, y_test = train_test_split(X, y, test_size=0.2, random_state=iteration * 42)\n",
        "\n",
        "    # Random Forest Classifier\n",
        "    rf_classifier = RandomForestClassifier(n_estimators=100, random_state=42)\n",
        "    rf_classifier.fit(X_train, y_train)\n",
        "    rf_predictions = rf_classifier.predict(X_test)\n",
        "    rf_accuracy = accuracy_score(y_test, rf_predictions)\n",
        "\n",
        "    print(f\"Iteration {iteration + 1} - Random Forest Accuracy: {rf_accuracy*100}\")\n",
        "\n",
        "    # Isolation Forest\n",
        "    isolation_forest = IsolationForest(contamination=0.1, random_state=42)\n",
        "    isolation_forest.fit(X_train)\n",
        "    if_predictions = isolation_forest.predict(X_test)\n",
        "    if_predictions = np.where(if_predictions == -1, 1, 0)  # Convert -1 to 1 and 1 to 0\n",
        "    if_accuracy = accuracy_score(y_test, if_predictions)\n",
        "\n",
        "    print(f\"Iteration {iteration + 1} - Isolation Forest Accuracy: {if_accuracy*100}\")\n",
        "    print(\"-\" * 30)"
      ],
      "metadata": {
        "colab": {
          "base_uri": "https://localhost:8080/"
        },
        "id": "LQeEj0JQpMNY",
        "outputId": "bf6ae671-049b-46b7-b1d9-a4acdf789aab"
      },
      "execution_count": 56,
      "outputs": [
        {
          "output_type": "stream",
          "name": "stderr",
          "text": [
            "<ipython-input-56-6bbd052f1ccd>:12: UserWarning: Parsing dates in DD/MM/YYYY format when dayfirst=False (the default) was specified. This may lead to inconsistently parsed dates! Specify a format to ensure consistent parsing.\n",
            "  df['Date'] = pd.to_datetime(df['Date'])\n"
          ]
        },
        {
          "output_type": "stream",
          "name": "stdout",
          "text": [
            "Iteration 1 - Random Forest Accuracy: 80.0\n"
          ]
        },
        {
          "output_type": "stream",
          "name": "stderr",
          "text": [
            "/usr/local/lib/python3.10/dist-packages/sklearn/base.py:439: UserWarning: X does not have valid feature names, but IsolationForest was fitted with feature names\n",
            "  warnings.warn(\n"
          ]
        },
        {
          "output_type": "stream",
          "name": "stdout",
          "text": [
            "Iteration 1 - Isolation Forest Accuracy: 30.0\n",
            "------------------------------\n",
            "Iteration 2 - Random Forest Accuracy: 85.0\n"
          ]
        },
        {
          "output_type": "stream",
          "name": "stderr",
          "text": [
            "/usr/local/lib/python3.10/dist-packages/sklearn/base.py:439: UserWarning: X does not have valid feature names, but IsolationForest was fitted with feature names\n",
            "  warnings.warn(\n"
          ]
        },
        {
          "output_type": "stream",
          "name": "stdout",
          "text": [
            "Iteration 2 - Isolation Forest Accuracy: 25.0\n",
            "------------------------------\n",
            "Iteration 3 - Random Forest Accuracy: 80.0\n"
          ]
        },
        {
          "output_type": "stream",
          "name": "stderr",
          "text": [
            "/usr/local/lib/python3.10/dist-packages/sklearn/base.py:439: UserWarning: X does not have valid feature names, but IsolationForest was fitted with feature names\n",
            "  warnings.warn(\n"
          ]
        },
        {
          "output_type": "stream",
          "name": "stdout",
          "text": [
            "Iteration 3 - Isolation Forest Accuracy: 10.0\n",
            "------------------------------\n",
            "Iteration 4 - Random Forest Accuracy: 85.0\n"
          ]
        },
        {
          "output_type": "stream",
          "name": "stderr",
          "text": [
            "/usr/local/lib/python3.10/dist-packages/sklearn/base.py:439: UserWarning: X does not have valid feature names, but IsolationForest was fitted with feature names\n",
            "  warnings.warn(\n"
          ]
        },
        {
          "output_type": "stream",
          "name": "stdout",
          "text": [
            "Iteration 4 - Isolation Forest Accuracy: 40.0\n",
            "------------------------------\n",
            "Iteration 5 - Random Forest Accuracy: 75.0\n"
          ]
        },
        {
          "output_type": "stream",
          "name": "stderr",
          "text": [
            "/usr/local/lib/python3.10/dist-packages/sklearn/base.py:439: UserWarning: X does not have valid feature names, but IsolationForest was fitted with feature names\n",
            "  warnings.warn(\n"
          ]
        },
        {
          "output_type": "stream",
          "name": "stdout",
          "text": [
            "Iteration 5 - Isolation Forest Accuracy: 25.0\n",
            "------------------------------\n",
            "Iteration 6 - Random Forest Accuracy: 75.0\n"
          ]
        },
        {
          "output_type": "stream",
          "name": "stderr",
          "text": [
            "/usr/local/lib/python3.10/dist-packages/sklearn/base.py:439: UserWarning: X does not have valid feature names, but IsolationForest was fitted with feature names\n",
            "  warnings.warn(\n"
          ]
        },
        {
          "output_type": "stream",
          "name": "stdout",
          "text": [
            "Iteration 6 - Isolation Forest Accuracy: 20.0\n",
            "------------------------------\n",
            "Iteration 7 - Random Forest Accuracy: 55.00000000000001\n"
          ]
        },
        {
          "output_type": "stream",
          "name": "stderr",
          "text": [
            "/usr/local/lib/python3.10/dist-packages/sklearn/base.py:439: UserWarning: X does not have valid feature names, but IsolationForest was fitted with feature names\n",
            "  warnings.warn(\n"
          ]
        },
        {
          "output_type": "stream",
          "name": "stdout",
          "text": [
            "Iteration 7 - Isolation Forest Accuracy: 45.0\n",
            "------------------------------\n",
            "Iteration 8 - Random Forest Accuracy: 85.0\n"
          ]
        },
        {
          "output_type": "stream",
          "name": "stderr",
          "text": [
            "/usr/local/lib/python3.10/dist-packages/sklearn/base.py:439: UserWarning: X does not have valid feature names, but IsolationForest was fitted with feature names\n",
            "  warnings.warn(\n"
          ]
        },
        {
          "output_type": "stream",
          "name": "stdout",
          "text": [
            "Iteration 8 - Isolation Forest Accuracy: 10.0\n",
            "------------------------------\n",
            "Iteration 9 - Random Forest Accuracy: 85.0\n"
          ]
        },
        {
          "output_type": "stream",
          "name": "stderr",
          "text": [
            "/usr/local/lib/python3.10/dist-packages/sklearn/base.py:439: UserWarning: X does not have valid feature names, but IsolationForest was fitted with feature names\n",
            "  warnings.warn(\n"
          ]
        },
        {
          "output_type": "stream",
          "name": "stdout",
          "text": [
            "Iteration 9 - Isolation Forest Accuracy: 30.0\n",
            "------------------------------\n",
            "Iteration 10 - Random Forest Accuracy: 75.0\n",
            "Iteration 10 - Isolation Forest Accuracy: 10.0\n",
            "------------------------------\n"
          ]
        },
        {
          "output_type": "stream",
          "name": "stderr",
          "text": [
            "/usr/local/lib/python3.10/dist-packages/sklearn/base.py:439: UserWarning: X does not have valid feature names, but IsolationForest was fitted with feature names\n",
            "  warnings.warn(\n"
          ]
        }
      ]
    },
    {
      "cell_type": "code",
      "source": [
        "import pandas as pd\n",
        "from sklearn.model_selection import train_test_split\n",
        "from sklearn.ensemble import RandomForestClassifier\n",
        "from sklearn.metrics import accuracy_score\n",
        "from sklearn.preprocessing import LabelEncoder\n",
        "from sklearn.ensemble import IsolationForest\n",
        "from sklearn.preprocessing import StandardScaler\n",
        "from sklearn.metrics import mean_squared_error\n",
        "from tensorflow.keras.models import Sequential\n",
        "from tensorflow.keras.layers import Dense\n",
        "import numpy as np\n",
        "\n",
        "df = pd.read_csv(\"/content/100coreproject.csv\")\n",
        "\n",
        "# Function to create an autoencoder model\n",
        "def create_autoencoder(input_dim):\n",
        "    model = Sequential()\n",
        "    model.add(Dense(32, activation='relu', input_dim=input_dim))\n",
        "    model.add(Dense(16, activation='relu'))\n",
        "    model.add(Dense(8, activation='relu'))\n",
        "    model.add(Dense(16, activation='relu'))\n",
        "    model.add(Dense(32, activation='relu'))\n",
        "    model.add(Dense(input_dim, activation='sigmoid'))\n",
        "    model.compile(optimizer='adam', loss='mean_squared_error')\n",
        "    return model\n",
        "\n",
        "\n",
        "# Convert 'Date' column to datetime\n",
        "df['Date'] = pd.to_datetime(df['Date'])\n",
        "\n",
        "# Extract features from 'Date'\n",
        "df['Year'] = df['Date'].dt.year\n",
        "df['Month'] = df['Date'].dt.month\n",
        "df['Day'] = df['Date'].dt.day\n",
        "df.drop(columns=['Date'], inplace=True)\n",
        "\n",
        "# Encode categorical columns\n",
        "label_encoders = {}\n",
        "for column in ['Type', 'Location', 'Victim_Gender', 'Reported', 'Outcome']:\n",
        "    le = LabelEncoder()\n",
        "    df[column] = le.fit_transform(df[column])\n",
        "    label_encoders[column] = le\n",
        "\n",
        "# Split the data into features and target\n",
        "X = df.drop(columns=['Outcome'])\n",
        "y = df['Outcome']\n",
        "\n",
        "# Number of iterations\n",
        "num_iterations = 10\n",
        "\n",
        "for iteration in range(num_iterations):\n",
        "    # Split the data into training and testing sets\n",
        "    X_train, X_test, y_train, y_test = train_test_split(X, y, test_size=0.2, random_state=iteration * 42)\n",
        "\n",
        "    # Random Forest Classifier\n",
        "    rf_classifier = RandomForestClassifier(n_estimators=100, random_state=42)\n",
        "    rf_classifier.fit(X_train, y_train)\n",
        "    rf_predictions = rf_classifier.predict(X_test)\n",
        "    rf_accuracy = accuracy_score(y_test, rf_predictions)\n",
        "\n",
        "    print(f\"Iteration {iteration + 1} - Random Forest Accuracy: {rf_accuracy * 100}\")\n",
        "\n",
        "    # Autoencoder for anomaly detection\n",
        "    input_dim = X_train.shape[1]\n",
        "    autoencoder = create_autoencoder(input_dim)\n",
        "    autoencoder.fit(X_train, X_train, epochs=10, batch_size=32, shuffle=True, validation_data=(X_test, X_test), verbose=0)\n",
        "\n",
        "    # Use the autoencoder for reconstruction and compute reconstruction errors\n",
        "    X_train_reconstructed = autoencoder.predict(X_train)\n",
        "    train_mse = np.mean(np.square(X_train - X_train_reconstructed), axis=1)\n",
        "\n",
        "    X_test_reconstructed = autoencoder.predict(X_test)\n",
        "    test_mse = np.mean(np.square(X_test - X_test_reconstructed), axis=1)\n",
        "\n",
        "    # Set a threshold for anomaly detection (you may need to adjust this threshold based on your data)\n",
        "    threshold = np.percentile(train_mse, 95)\n",
        "\n",
        "    # Predict anomalies\n",
        "    autoencoder_predictions = (test_mse > threshold).astype(int)\n",
        "    autoencoder_accuracy = accuracy_score(y_test, autoencoder_predictions)\n",
        "\n",
        "    print(f\"Iteration {iteration + 1} - Autoencoder Accuracy: {autoencoder_accuracy * 100}\")\n",
        "    print(\"-\" * 30)\n"
      ],
      "metadata": {
        "colab": {
          "base_uri": "https://localhost:8080/"
        },
        "id": "sFA8rdmxJcdp",
        "outputId": "e26822ea-1bac-495d-af07-1ce10f371084"
      },
      "execution_count": 3,
      "outputs": [
        {
          "output_type": "stream",
          "name": "stderr",
          "text": [
            "<ipython-input-3-4b9afb0326dc>:29: UserWarning: Parsing dates in DD/MM/YYYY format when dayfirst=False (the default) was specified. This may lead to inconsistently parsed dates! Specify a format to ensure consistent parsing.\n",
            "  df['Date'] = pd.to_datetime(df['Date'])\n"
          ]
        },
        {
          "output_type": "stream",
          "name": "stdout",
          "text": [
            "Iteration 1 - Random Forest Accuracy: 80.0\n",
            "3/3 [==============================] - 0s 5ms/step\n",
            "1/1 [==============================] - 0s 23ms/step\n",
            "Iteration 1 - Autoencoder Accuracy: 25.0\n",
            "------------------------------\n",
            "Iteration 2 - Random Forest Accuracy: 85.0\n",
            "3/3 [==============================] - 0s 4ms/step\n",
            "1/1 [==============================] - 0s 20ms/step\n",
            "Iteration 2 - Autoencoder Accuracy: 10.0\n",
            "------------------------------\n",
            "Iteration 3 - Random Forest Accuracy: 80.0\n",
            "3/3 [==============================] - 0s 4ms/step\n",
            "1/1 [==============================] - 0s 21ms/step\n",
            "Iteration 3 - Autoencoder Accuracy: 10.0\n",
            "------------------------------\n",
            "Iteration 4 - Random Forest Accuracy: 85.0\n",
            "3/3 [==============================] - 0s 8ms/step\n",
            "1/1 [==============================] - 0s 20ms/step\n",
            "Iteration 4 - Autoencoder Accuracy: 25.0\n",
            "------------------------------\n",
            "Iteration 5 - Random Forest Accuracy: 75.0\n",
            "3/3 [==============================] - 0s 4ms/step\n",
            "1/1 [==============================] - 0s 21ms/step\n",
            "Iteration 5 - Autoencoder Accuracy: 20.0\n",
            "------------------------------\n",
            "Iteration 6 - Random Forest Accuracy: 75.0\n",
            "3/3 [==============================] - 0s 4ms/step\n",
            "1/1 [==============================] - 0s 20ms/step\n",
            "Iteration 6 - Autoencoder Accuracy: 15.0\n",
            "------------------------------\n",
            "Iteration 7 - Random Forest Accuracy: 55.00000000000001\n",
            "3/3 [==============================] - 0s 4ms/step\n",
            "1/1 [==============================] - 0s 20ms/step\n",
            "Iteration 7 - Autoencoder Accuracy: 40.0\n",
            "------------------------------\n",
            "Iteration 8 - Random Forest Accuracy: 85.0\n",
            "3/3 [==============================] - 0s 4ms/step\n",
            "1/1 [==============================] - 0s 20ms/step\n",
            "Iteration 8 - Autoencoder Accuracy: 10.0\n",
            "------------------------------\n",
            "Iteration 9 - Random Forest Accuracy: 85.0\n",
            "3/3 [==============================] - 0s 4ms/step\n",
            "1/1 [==============================] - 0s 31ms/step\n",
            "Iteration 9 - Autoencoder Accuracy: 20.0\n",
            "------------------------------\n",
            "Iteration 10 - Random Forest Accuracy: 75.0\n",
            "3/3 [==============================] - 0s 4ms/step\n",
            "1/1 [==============================] - 0s 20ms/step\n",
            "Iteration 10 - Autoencoder Accuracy: 15.0\n",
            "------------------------------\n"
          ]
        }
      ]
    }
  ]
}